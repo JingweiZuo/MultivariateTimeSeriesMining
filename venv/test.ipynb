{
 "cells": [
  {
   "cell_type": "code",
   "execution_count": 6,
   "metadata": {
    "collapsed": true
   },
   "outputs": [
    {
     "name": "stdout",
     "output_type": "stream",
     "text": [
      "[{1: 123}]\n[{1: 123}, {2: 456}]\n"
     ]
    }
   ],
   "source": [
    "array_ts = []\n",
    "array_ts.append({1:123})\n",
    "print(array_ts)\n",
    "array_ts.append({2:456})\n",
    "print(array_ts)"
   ]
  },
  {
   "cell_type": "code",
   "execution_count": 22,
   "metadata": {},
   "outputs": [
    {
     "name": "stdout",
     "output_type": "stream",
     "text": [
      "yes\n"
     ]
    }
   ],
   "source": [
    "d1 = float('-inf')\n",
    "d2 = float('-inf')\n",
    "if d1 == d2 :\n",
    "    print(\"yes\")"
   ]
  },
  {
   "cell_type": "code",
   "execution_count": 34,
   "metadata": {},
   "outputs": [
    {
     "name": "stdout",
     "output_type": "stream",
     "text": [
      "1\n2\n3\n4\n5\n6\n7\n8\n9\n0\n2\n4\n6\n"
     ]
    }
   ],
   "source": [
    "for i in range(1,10):\n",
    "    print(i)\n",
    "for i in range(0,8,2):\n",
    "    print(i)"
   ]
  },
  {
   "cell_type": "code",
   "execution_count": 3,
   "metadata": {},
   "outputs": [
    {
     "data": {
      "text/plain": [
       "[1, 2, 3, 1]"
      ]
     },
     "execution_count": 3,
     "metadata": {},
     "output_type": "execute_result"
    }
   ],
   "source": [
    "x = [1]\n",
    "y = [1,2,3]\n",
    "y.extend(x)\n",
    "y"
   ]
  },
  {
   "cell_type": "code",
   "execution_count": 48,
   "metadata": {},
   "outputs": [
    {
     "data": {
      "text/plain": [
       "[(0, 1), (2, 2), (1, 3), (3, 5)]"
      ]
     },
     "execution_count": 48,
     "metadata": {},
     "output_type": "execute_result"
    }
   ],
   "source": [
    "import numpy as np\n",
    "xx = [1,3,2,5]\n",
    "\n",
    "y = sorted(enumerate(xx), key = lambda x: x[1])\n",
    "y"
   ]
  },
  {
   "cell_type": "code",
   "execution_count": 56,
   "metadata": {},
   "outputs": [
    {
     "name": "stdout",
     "output_type": "stream",
     "text": [
      "             precision    recall  f1-score   support\n\n          1       1.00      0.25      0.40         4\n          2       0.00      0.00      0.00         0\n\navg / total       1.00      0.25      0.40         4\n\n0.25\n"
     ]
    },
    {
     "name": "stderr",
     "output_type": "stream",
     "text": [
      "/usr/local/Cellar/python3/3.6.3/Frameworks/Python.framework/Versions/3.6/lib/python3.6/site-packages/sklearn/metrics/classification.py:1137: UndefinedMetricWarning: Recall and F-score are ill-defined and being set to 0.0 in labels with no true samples.\n  'recall', 'true', average, warn_for)\n"
     ]
    }
   ],
   "source": [
    "from sklearn.metrics import accuracy_score, precision_recall_fscore_support, classification_report\n",
    "test = [1, 1, 1, 1]\n",
    "pred = [1, 2, 2, 2]\n",
    "\n",
    "sk_report = classification_report(test, pred)\n",
    "print(sk_report)\n",
    "print(accuracy_score(test, pred))"
   ]
  },
  {
   "cell_type": "code",
   "execution_count": 37,
   "metadata": {},
   "outputs": [],
   "source": [
    "def load(directory, option):\n",
    "    if option.lower() == 'raw data':\n",
    "        dirname = \"/RawData/\"\n",
    "        extension = \".csv\"\n",
    "\n",
    "    files_list = [f for f in os.listdir(directory + dirname) if f.lower().endswith(extension)]\n",
    "    list_objects = []\n",
    "    for file in files_list:\n",
    "        path = directory + dirname + file\n",
    "        an_object = np.genfromtxt(path, delimiter=\",\")\n",
    "        list_objects.extend(an_object)\n",
    "    # return a list[Array_TimeSeries]\n",
    "    return list_objects"
   ]
  },
  {
   "cell_type": "code",
   "execution_count": 64,
   "metadata": {},
   "outputs": [
    {
     "data": {
      "image/png": "[encoded data removed]",
      "text/plain": [
       "<Figure size 432x288 with 1 Axes>"
      ]
     },
     "metadata": {},
     "output_type": "display_data"
    }
   ],
   "source": [
    "from matplotlib import pyplot as plt\n",
    "f = plt.Figure(figsize=(5, 5), dpi=100)\n",
    "dist_side1 = [2,3,4,5,6]\n",
    "dist_side2 = [1,2,2,1,2]\n",
    "dist_differ = np.subtract(dist_side2, dist_side1)\n",
    "#a = f.add_subplot(111)\n",
    "\n",
    "plt.title(\"class of the TimeSeries: \" + \"class1\")\n",
    "plt.xlabel(\"index/offset\")\n",
    "plt.ylabel(\"Distance measure\")\n",
    "X = range(0, len(dist_differ))\n",
    "plt.plot(X, dist_side1, color = 'green', linewidth=0.3, label='dist_side1')\n",
    "plt.plot(X, dist_side2, color='blue', linewidth=0.3, label='dist_side2')\n",
    "plt.plot(X, dist_differ, color='red', linewidth=0.3, label='dist_differ')\n",
    "plt.show()"
   ]
  },
  {
   "cell_type": "code",
   "execution_count": null,
   "metadata": {},
   "outputs": [],
   "source": []
  }
 ],
 "metadata": {
  "kernelspec": {
   "display_name": "Python 2",
   "language": "python",
   "name": "python2"
  },
  "language_info": {
   "codemirror_mode": {
    "name": "ipython",
    "version": 2
   },
   "file_extension": ".py",
   "mimetype": "text/x-python",
   "name": "python",
   "nbconvert_exporter": "python",
   "pygments_lexer": "ipython2",
   "version": "2.7.6"
  }
 },
 "nbformat": 4,
 "nbformat_minor": 0
}
