{
 "cells": [
  {
   "cell_type": "code",
   "execution_count": 6,
   "metadata": {
    "collapsed": true
   },
   "outputs": [
    {
     "name": "stdout",
     "output_type": "stream",
     "text": [
      "[{1: 123}]\n[{1: 123}, {2: 456}]\n"
     ]
    }
   ],
   "source": [
    "array_ts = []\n",
    "array_ts.append({1:123})\n",
    "print(array_ts)\n",
    "array_ts.append({2:456})\n",
    "print(array_ts)"
   ]
  },
  {
   "cell_type": "code",
   "execution_count": 22,
   "metadata": {},
   "outputs": [
    {
     "name": "stdout",
     "output_type": "stream",
     "text": [
      "yes\n"
     ]
    }
   ],
   "source": [
    "d1 = float('-inf')\n",
    "d2 = float('-inf')\n",
    "if d1 == d2 :\n",
    "    print(\"yes\")"
   ]
  },
  {
   "cell_type": "code",
   "execution_count": 34,
   "metadata": {
    "collapsed": true
   },
   "outputs": [
    {
     "name": "stdout",
     "output_type": "stream",
     "text": [
      "1\n2\n3\n4\n5\n6\n7\n8\n9\n0\n2\n4\n6\n"
     ]
    }
   ],
   "source": [
    "for i in range(1,10):\n",
    "    print(i)\n",
    "for i in range(0,8,2):\n",
    "    print(i)"
   ]
  },
  {
   "cell_type": "code",
   "execution_count": 3,
   "metadata": {},
   "outputs": [
    {
     "data": {
      "text/plain": [
       "[1, 2, 3, 1]"
      ]
     },
     "execution_count": 3,
     "metadata": {},
     "output_type": "execute_result"
    }
   ],
   "source": [
    "x = [1]\n",
    "y = [1,2,3]\n",
    "y.extend(x)\n",
    "y"
   ]
  },
  {
   "cell_type": "code",
   "execution_count": 48,
   "metadata": {},
   "outputs": [
    {
     "data": {
      "text/plain": [
       "[(0, 1), (2, 2), (1, 3), (3, 5)]"
      ]
     },
     "execution_count": 48,
     "metadata": {},
     "output_type": "execute_result"
    }
   ],
   "source": [
    "import numpy as np\n",
    "xx = [1,3,2,5]\n",
    "\n",
    "y = sorted(enumerate(xx), key = lambda x: x[1])\n",
    "y"
   ]
  },
  {
   "cell_type": "code",
   "execution_count": 56,
   "metadata": {},
   "outputs": [
    {
     "name": "stdout",
     "output_type": "stream",
     "text": [
      "             precision    recall  f1-score   support\n\n          1       1.00      0.25      0.40         4\n          2       0.00      0.00      0.00         0\n\navg / total       1.00      0.25      0.40         4\n\n0.25\n"
     ]
    },
    {
     "name": "stderr",
     "output_type": "stream",
     "text": [
      "/usr/local/Cellar/python3/3.6.3/Frameworks/Python.framework/Versions/3.6/lib/python3.6/site-packages/sklearn/metrics/classification.py:1137: UndefinedMetricWarning: Recall and F-score are ill-defined and being set to 0.0 in labels with no true samples.\n  'recall', 'true', average, warn_for)\n"
     ]
    }
   ],
   "source": [
    "from sklearn.metrics import accuracy_score, precision_recall_fscore_support, classification_report\n",
    "test = [1, 1, 1, 1]\n",
    "pred = [1, 2, 2, 2]\n",
    "\n",
    "sk_report = classification_report(test, pred)\n",
    "print(sk_report)\n",
    "print(accuracy_score(test, pred))"
   ]
  },
  {
   "cell_type": "code",
   "execution_count": 37,
   "metadata": {},
   "outputs": [],
   "source": [
    "def load(directory, option):\n",
    "    if option.lower() == 'raw data':\n",
    "        dirname = \"/RawData/\"\n",
    "        extension = \".csv\"\n",
    "\n",
    "    files_list = [f for f in os.listdir(directory + dirname) if f.lower().endswith(extension)]\n",
    "    list_objects = []\n",
    "    for file in files_list:\n",
    "        path = directory + dirname + file\n",
    "        an_object = np.genfromtxt(path, delimiter=\",\")\n",
    "        list_objects.extend(an_object)\n",
    "    # return a list[Array_TimeSeries]\n",
    "    return list_objects"
   ]
  },
  {
   "cell_type": "code",
   "execution_count": 97,
   "metadata": {
    "collapsed": true
   },
   "outputs": [
    {
     "name": "stdout",
     "output_type": "stream",
     "text": [
      "30\n"
     ]
    },
    {
     "data": {
      "text/plain": [
       "array([24.+0.j, 22.+0.j, 24.+0.j, 30.+0.j])"
      ]
     },
     "execution_count": 97,
     "metadata": {},
     "output_type": "execute_result"
    }
   ],
   "source": [
    "def dot_products_2(q, t):\n",
    "    # concatenante n-m zeros for Query\n",
    "    m, n = len(q), len(t)\n",
    "    # reverse the Query\n",
    "    q_r = q[::-1]\n",
    "    q_ra = np.concatenate([q_r, np.zeros(n - m)])\n",
    "    q_raf = np.fft.fft(q_ra)\n",
    "    t_af = np.fft.fft(t)\n",
    "    qt = np.fft.ifft(q_raf * t_af)\n",
    "    return qt\n",
    "q = [1, 2, 3, 4]\n",
    "t = [1, 2, 3, 4]\n",
    "print(np.dot(q,t))\n",
    "dot_products_2(q, t)"
   ]
  },
  {
   "cell_type": "code",
   "execution_count": 122,
   "metadata": {},
   "outputs": [
    {
     "name": "stdout",
     "output_type": "stream",
     "text": [
      "[3 1]\n[3 1]\n[3 1]\n[3 1]\n1\n"
     ]
    }
   ],
   "source": [
    "meanQ = 2\n",
    "sigmaQ = 2\n",
    "sigmaNewQ = 2\n",
    "L =2\n",
    "meanT = np.array([(3,1), (3,1), (3,1), (3,1)])\n",
    "for idx, val in enumerate(meanT):\n",
    "    print(val)\n",
    "print(meanT.__getitem__(1)[1])"
   ]
  },
  {
   "cell_type": "code",
   "execution_count": 154,
   "metadata": {},
   "outputs": [
    {
     "name": "stdout",
     "output_type": "stream",
     "text": [
      "[('blue', 2), ('yellow', 3), ('red', 4), ('black', 4)]\n2\n['red', 'blue']\n"
     ]
    }
   ],
   "source": [
    "from bisect import bisect_left\n",
    "list = [('red', 4), ('blue', 2), ('yellow', 3), ('black', 4)]\n",
    "list = sorted(list, key = lambda l:l[1])\n",
    "print(list)\n",
    "dist_exact = 2.5\n",
    "values = [lb[1] for lb in lb_list]\n",
    "index = bisect_left(values, dist_exact)\n",
    "print(index)\n",
    "rawIndexList = [lb[0] for lb in lb_list[:index]]\n",
    "print(rawIndexList)\n",
    "#index = lb_list[bisect_left(values, dist_exact)-1]\n",
    "#print(index)"
   ]
  },
  {
   "cell_type": "code",
   "execution_count": 194,
   "metadata": {},
   "outputs": [
    {
     "name": "stdout",
     "output_type": "stream",
     "text": [
      "[1 2 3 0 0]\n"
     ]
    }
   ],
   "source": [
    "data = np.array([1, 2, 3])\n",
    "data1 = np.append(data, [0]*2)\n",
    "print(data1)"
   ]
  },
  {
   "cell_type": "code",
   "execution_count": 198,
   "metadata": {},
   "outputs": [
    {
     "name": "stdout",
     "output_type": "stream",
     "text": [
      "[(3, 1), (1, 2), (5, 6)]\n"
     ]
    },
    {
     "ename": "TypeError",
     "evalue": "'>' not supported between instances of 'complex' and 'complex'",
     "traceback": [
      "\u001b[0;31m---------------------------------------------------------------------------\u001b[0m",
      "\u001b[0;31mTypeError\u001b[0m                                 Traceback (most recent call last)",
      "\u001b[0;32m<ipython-input-198-f2f21eb2b6b5>\u001b[0m in \u001b[0;36m<module>\u001b[0;34m()\u001b[0m\n\u001b[1;32m      2\u001b[0m \u001b[0mlb_list\u001b[0m \u001b[0;34m=\u001b[0m \u001b[0msorted\u001b[0m\u001b[0;34m(\u001b[0m\u001b[0mlb_list\u001b[0m\u001b[0;34m,\u001b[0m \u001b[0mkey\u001b[0m\u001b[0;34m=\u001b[0m\u001b[0;32mlambda\u001b[0m \u001b[0md\u001b[0m\u001b[0;34m:\u001b[0m \u001b[0md\u001b[0m\u001b[0;34m[\u001b[0m\u001b[0;36m1\u001b[0m\u001b[0;34m]\u001b[0m\u001b[0;34m)\u001b[0m\u001b[0;34m\u001b[0m\u001b[0m\n\u001b[1;32m      3\u001b[0m \u001b[0mprint\u001b[0m\u001b[0;34m(\u001b[0m\u001b[0mlb_list\u001b[0m\u001b[0;34m)\u001b[0m\u001b[0;34m\u001b[0m\u001b[0m\n\u001b[0;32m----> 4\u001b[0;31m \u001b[0mprint\u001b[0m\u001b[0;34m(\u001b[0m\u001b[0;36m1\u001b[0m \u001b[0;34m+\u001b[0m \u001b[0;36m0.5j\u001b[0m \u001b[0;34m>\u001b[0m \u001b[0;36m0.5\u001b[0m\u001b[0;34m+\u001b[0m\u001b[0;36m0.5j\u001b[0m\u001b[0;34m)\u001b[0m\u001b[0;34m\u001b[0m\u001b[0m\n\u001b[0m",
      "\u001b[0;31mTypeError\u001b[0m: '>' not supported between instances of 'complex' and 'complex'"
     ],
     "output_type": "error"
    }
   ],
   "source": [
    "lb_list = [(1,2),(3,1),(5,6)]\n",
    "lb_list = sorted(lb_list, key=lambda d: d[1])\n",
    "print(lb_list)\n",
    "print(1 + 0.5j > 0.5+0.5j)"
   ]
  },
  {
   "cell_type": "code",
   "execution_count": 201,
   "metadata": {},
   "outputs": [
    {
     "data": {
      "text/plain": [
       "1"
      ]
     },
     "execution_count": 201,
     "metadata": {},
     "output_type": "execute_result"
    }
   ],
   "source": [
    "min([1,2,3])"
   ]
  },
  {
   "cell_type": "code",
   "execution_count": null,
   "metadata": {},
   "outputs": [],
   "source": []
  }
 ],
 "metadata": {
  "kernelspec": {
   "display_name": "Python 2",
   "language": "python",
   "name": "python2"
  },
  "language_info": {
   "codemirror_mode": {
    "name": "ipython",
    "version": 2
   },
   "file_extension": ".py",
   "mimetype": "text/x-python",
   "name": "python",
   "nbconvert_exporter": "python",
   "pygments_lexer": "ipython2",
   "version": "2.7.6"
  }
 },
 "nbformat": 4,
 "nbformat_minor": 0
}
