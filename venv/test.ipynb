{
 "cells": [
  {
   "cell_type": "code",
   "execution_count": 5,
   "metadata": {},
   "outputs": [],
   "source": [
    "def load(directory, option):\n",
    "    if option.lower() == 'raw data':\n",
    "        dirname = \"/RawData/\"\n",
    "        extension = \".csv\"\n",
    "\n",
    "    files_list = [f for f in os.listdir(directory + dirname) if f.lower().endswith(extension)]\n",
    "    list_objects = []\n",
    "    for file in files_list:\n",
    "        path = directory + dirname + file\n",
    "        an_object = np.genfromtxt(path, delimiter=\",\")\n",
    "        list_objects.extend(an_object)\n",
    "    # return a list[Array_TimeSeries]\n",
    "    return list_objects"
   ]
  },
  {
   "cell_type": "code",
   "execution_count": 6,
   "metadata": {
    "collapsed": true
   },
   "outputs": [
    {
     "name": "stdout",
     "output_type": "stream",
     "text": [
      "30\n"
     ]
    },
    {
     "data": {
      "text/plain": [
       "array([24.+0.j, 22.+0.j, 24.+0.j, 30.+0.j])"
      ]
     },
     "execution_count": 6,
     "metadata": {},
     "output_type": "execute_result"
    }
   ],
   "source": [
    "def dot_products_2(q, t):\n",
    "    # concatenante n-m zeros for Query\n",
    "    m, n = len(q), len(t)\n",
    "    # reverse the Query\n",
    "    q_r = q[::-1]\n",
    "    q_ra = np.concatenate([q_r, np.zeros(n - m)])\n",
    "    q_raf = np.fft.fft(q_ra)\n",
    "    t_af = np.fft.fft(t)\n",
    "    qt = np.fft.ifft(q_raf * t_af)\n",
    "    return qt\n",
    "q = [1, 2, 3, 4]\n",
    "t = [1, 2, 3, 4]\n",
    "print(np.dot(q,t))\n",
    "dot_products_2(q, t)"
   ]
  },
  {
   "cell_type": "code",
   "execution_count": 7,
   "metadata": {
    "collapsed": true
   },
   "outputs": [
    {
     "name": "stdout",
     "output_type": "stream",
     "text": [
      "<class 'pandas.core.frame.DataFrame'>\nRangeIndex: 1000 entries, 0 to 999\nColumns: 1025 entries, 0 to 1024\ndtypes: float64(1024), int64(1)\nmemory usage: 7.8 MB\n"
     ]
    }
   ],
   "source": [
    "import pandas as pd\n",
    "import numpy as np\n",
    "path = \"/Users/Jingwei/PycharmProjects/distributed_use/venv/TestDataset/UCR_TS_Archive_2015/StarLightCurves/\"\n",
    "filename= \"StarLightCurves_TRAIN\"\n",
    "testFile = pd.read_csv(path+filename, header=None)\n",
    "testFile.info()\n"
   ]
  },
  {
   "cell_type": "code",
   "execution_count": 1,
   "metadata": {},
   "outputs": [
    {
     "ename": "ModuleNotFoundError",
     "evalue": "No module named 'similarity_measures'",
     "traceback": [
      "\u001b[0;31m---------------------------------------------------------------------------\u001b[0m",
      "\u001b[0;31mModuleNotFoundError\u001b[0m                       Traceback (most recent call last)",
      "\u001b[0;32m<ipython-input-1-cc472aa4bce4>\u001b[0m in \u001b[0;36m<module>\u001b[0;34m()\u001b[0m\n\u001b[0;32m----> 1\u001b[0;31m \u001b[0;32mimport\u001b[0m \u001b[0msimilarity_measures\u001b[0m \u001b[0;32mas\u001b[0m \u001b[0msm\u001b[0m\u001b[0;34m\u001b[0m\u001b[0m\n\u001b[0m\u001b[1;32m      2\u001b[0m \u001b[0mdp\u001b[0m \u001b[0;34m=\u001b[0m \u001b[0msm\u001b[0m\u001b[0;34m.\u001b[0m\u001b[0mcalculate_distances\u001b[0m\u001b[0;34m(\u001b[0m\u001b[0mt\u001b[0m\u001b[0;34m,\u001b[0m\u001b[0mq\u001b[0m\u001b[0;34m,\u001b[0m\u001b[0;34m\"mass_v1\"\u001b[0m\u001b[0;34m)\u001b[0m\u001b[0;34m\u001b[0m\u001b[0m\n",
      "\u001b[0;31mModuleNotFoundError\u001b[0m: No module named 'similarity_measures'"
     ],
     "output_type": "error"
    }
   ],
   "source": [
    "dp = sm.calculate_distances(t,q,\"mass_v1\")"
   ]
  },
  {
   "cell_type": "code",
   "execution_count": null,
   "metadata": {},
   "outputs": [],
   "source": []
  }
 ],
 "metadata": {
  "kernelspec": {
   "display_name": "Python 2",
   "language": "python",
   "name": "python2"
  },
  "language_info": {
   "codemirror_mode": {
    "name": "ipython",
    "version": 2
   },
   "file_extension": ".py",
   "mimetype": "text/x-python",
   "name": "python",
   "nbconvert_exporter": "python",
   "pygments_lexer": "ipython2",
   "version": "2.7.6"
  }
 },
 "nbformat": 4,
 "nbformat_minor": 0
}
