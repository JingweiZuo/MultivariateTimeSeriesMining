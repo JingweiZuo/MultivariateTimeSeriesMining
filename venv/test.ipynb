{
 "cells": [
  {
   "cell_type": "code",
   "execution_count": 147,
   "metadata": {
    "collapsed": true
   },
   "outputs": [],
   "source": [
    "import numpy as np\n",
    "arr = [2.0, 2.0, 2.0, 2.0, 2.0, 2.0, 2.0, 2.0, 2.0, 2.0, 2.0, 1.0, 2.0, 2.0, 2.0, 2.0, 2.0, 2.0, 2047.0, 2047.0, 2047.0, 2047.0, 2047.0, 2047.0, 2047.0, 2047.0, 2047.0, 2047.0, 2032.0, 2007.0, 1985.0, 1965.0, 3.0, 2.0, 2.0, 2.0, 2.0, 2.0, 2.0, 2.0, 2.0, 2.0, 2.0, 1.0, 2.0, 2.0, 2.0, 957.0, 1099.0, 1145.0, 1143.0, 1149.0, 1152.0, 1153.0, 1158.0, 1161.0, 1163.0, 1167.0, 1173.0, 1175.0, 1178.0, 1180.0, 1185.0, 1188.0]\n",
    "arr_q = [2.0, 2.0, 2.0, 2.0, 2.0, 2.0, 2.0, 2.0, 2.0, 2.0, 1.0, 2.0, 2.0, 2.0, 2.0, 2.0, 2.0, 2047.0, 2047.0]"
   ]
  },
  {
   "cell_type": "code",
   "execution_count": 150,
   "metadata": {},
   "outputs": [
    {
     "name": "stdout",
     "output_type": "stream",
     "text": [
      "size of Q:  19\nsize of T:  64\n"
     ]
    },
    {
     "data": {
      "text/plain": [
       "array([6.14835667, 6.14836848, 6.15389031, 6.15664938, 6.15830423,\n       6.15940722, 6.16019494, 6.16078567, 6.16124599, 6.16161341,\n       6.16192138, 6.16219052, 6.16242028, 6.16261305, 6.16377271,\n       6.16492102, 6.16492164, 6.16492168, 6.16492171, 6.16492291,\n       6.16492411, 6.16492532, 6.16492596, 6.16492717, 6.16492837,\n       6.16493015, 6.16493135, 6.16493198, 6.16493318, 6.16439317,\n       6.16379463, 6.16372444, 6.16373496, 6.16376546, 6.16379224,\n       6.16382053, 6.16384689, 6.16387158, 6.16389663, 6.16392038,\n       6.16394156, 6.16396292, 6.16398493, 6.1640062 , 6.16402598,\n       6.16404472])"
      ]
     },
     "execution_count": 150,
     "metadata": {},
     "output_type": "execute_result"
    }
   ],
   "source": [
    "def dot_products_1(q, t):\n",
    "    # concatenante n zeors for Time Series, 2n-m zeros for Query\n",
    "    m, n = len(q), len(t)\n",
    "    t_a = np.concatenate([t, np.zeros(n)])\n",
    "    # reverse the Query\n",
    "    q_r = q[::-1]\n",
    "    q_ra = np.concatenate([q_r, np.zeros(2 * n - m)])\n",
    "    q_raf = np.fft.fft(q_ra)\n",
    "    t_af = np.fft.fft(t_a)\n",
    "    qt = np.fft.ifft(q_raf * t_af)\n",
    "    return qt\n",
    "\n",
    "def dot_products_2(q, t):\n",
    "    # concatenante n-m zeros for Query\n",
    "    m, n = len(q), len(t)\n",
    "    # reverse the Query\n",
    "    q_r = q[::-1]\n",
    "    q_ra = np.concatenate([q_r, np.zeros(n - m)])\n",
    "    q_raf = np.fft.fft(q_ra)\n",
    "    t_af = np.fft.fft(t)\n",
    "    qt = np.fft.ifft(q_raf * t_af)\n",
    "    return qt\n",
    "\n",
    "def mass_v2(x, y):\n",
    "    #x is the data, y is the query\n",
    "    n, m = len(x), len(y)\n",
    "\n",
    "    #%compute y stats -- O(n)\n",
    "    meany = np.mean(y);\n",
    "    sigmay = np.std(y);\n",
    "\n",
    "    #compute x stats -- O(n)\n",
    "    #compute the average of the first m elements in 'x'\n",
    "    def running_mean(x, N):\n",
    "        cumsum = numpy.cumsum(numpy.insert(x, 0, np.zeros(N)))\n",
    "        return (cumsum[N:] - cumsum[:-N]) / float(N)\n",
    "\n",
    "    def running_std(x, N):\n",
    "        x2 = np.power(x, 2)\n",
    "        cumsum2 = numpy.cumsum(numpy.insert(x2, 0, np.zeros(N)))\n",
    "        return (cumsum2[N:] - cumsum2[:-N]) / float(N) - running_mean(x, N)\n",
    "\n",
    "    meanx = running_mean(x, n)\n",
    "    sigmax = running_std(x, n)\n",
    "\n",
    "    #The main trick of getting dot products in O(n log n) time\n",
    "    z = dot_products_2(y, x)\n",
    "    dist = 2*(m-(z[m-1:n]-m*meanx[m-1:n]*meany)/(sigmax[m-1:n]*sigmay))\n",
    "\n",
    "    dist = np.sqrt(dist);\n",
    "    return np.abs(dist)\n",
    "\n",
    "\n",
    "\n",
    "print(\"size of Q: \", arr_q.__len__())\n",
    "print(\"size of T: \", arr.__len__())\n",
    "mass_v2(arr, arr_q)"
   ]
  },
  {
   "cell_type": "code",
   "execution_count": 149,
   "metadata": {},
   "outputs": [
    {
     "data": {
      "text/plain": [
       "array([3.44784577, 0.04684951, 2.81084486, 3.57221328, 4.02372682,\n       4.33756427, 4.57537758, 4.76607701, 4.92607051, 5.06356473,\n       5.19310798, 5.32470353, 5.4523899 , 5.57303375, 6.74510428,\n       7.73276608, 7.73323708, 7.73323708, 7.659427  , 7.51633952,\n       7.39479322, 7.28868568, 7.19356337, 7.10746815, 7.0279404 ,\n       6.95388045, 6.88336695, 6.81553974, 6.75027256, 5.96844278,\n       4.49064991, 3.10129587, 3.33744234, 3.87063879, 4.21708375,\n       4.47778587, 4.68098459, 4.84610288, 4.98911516, 5.11326778,\n       5.22038395, 5.31982002, 5.4156408 , 5.5063289 , 5.59198877,\n       5.67345898])"
      ]
     },
     "execution_count": 149,
     "metadata": {},
     "output_type": "execute_result"
    }
   ],
   "source": [
    "def mass_v1(q, t):\n",
    "    m, n = len(q), len(t)\n",
    "    # Z-normalization of Query\n",
    "    q = (q-np.mean(q)) / np.std(q)\n",
    "    qt = dot_products_1(q, t)\n",
    "    #compute the mean and standard deviation of Time Series\n",
    "    sum_q = np.sum(q)\n",
    "    sum_q2 = np.sum(np.power(q,2))\n",
    "\n",
    "    #cache a cumulative sum of values\n",
    "    cum_sum_t = np.cumsum(t)\n",
    "    cum_sum_t2 = np.cumsum(np.power(t,2))\n",
    "\n",
    "    #sum of x and x square for [0, n-m] subsequences of length m\n",
    "    sumt2 = cum_sum_t2[m-1:] - cum_sum_t2[:- m+1]\n",
    "    sumt = cum_sum_t[m-1:] - cum_sum_t[:- m+1]\n",
    "    meant = sumt / m\n",
    "    #standard deviation of every subsequence of length m\n",
    "    sigmat2 = (sumt2 / m) - (np.power(meant,2))\n",
    "    sigmat = np.sqrt(sigmat2)\n",
    "\n",
    "    dist = (sumt2 - 2 * sumt * meant + m * (np.power(meant,2))) / sigmat2 - 2 * (qt[m-1:n] - sum_q * meant) / sigmat + sum_q2\n",
    "    dist = np.sqrt(dist)\n",
    "    return np.abs(dist)\n",
    "mass_v1(arr_q, arr)"
   ]
  },
  {
   "cell_type": "code",
   "execution_count": 153,
   "metadata": {},
   "outputs": [
    {
     "name": "stdout",
     "output_type": "stream",
     "text": [
      "[3.44784577 0.04684951 2.81084486 3.57221328 4.02372682 4.33756427\n 4.57537758 4.76607701 4.92607051 5.06356473 5.19310798 5.32470353\n 5.4523899  5.57303375 6.74510428 7.73276608 7.73323708 7.73323708\n 7.659427   7.51633952 7.39479322 7.28868568 7.19356337 7.10746815\n 7.0279404  6.95388045 6.88336695 6.81553974 6.75027256 5.96844278\n 4.49064991 3.10129587 3.33744234 3.87063879 4.21708375 4.47778587\n 4.68098459 4.84610288 4.98911516 5.11326778 5.22038395 5.31982002\n 5.4156408  5.5063289  5.59198877 5.67345898]\n0.004516000000002407\n[6.14835667 6.14836848 6.15389031 6.15664938 6.15830423 6.15940722\n 6.16019494 6.16078567 6.16124599 6.16161341 6.16192138 6.16219052\n 6.16242028 6.16261305 6.16377271 6.16492102 6.16492164 6.16492168\n 6.16492171 6.16492291 6.16492411 6.16492532 6.16492596 6.16492717\n 6.16492837 6.16493015 6.16493135 6.16493198 6.16493318 6.16439317\n 6.16379463 6.16372444 6.16373496 6.16376546 6.16379224 6.16382053\n 6.16384689 6.16387158 6.16389663 6.16392038 6.16394156 6.16396292\n 6.16398493 6.1640062  6.16402598 6.16404472]\n0.005352999999999497\n"
     ]
    }
   ],
   "source": [
    "import time\n",
    "t1 = time.clock()\n",
    "print(mass_v1(arr_q, arr))\n",
    "t2 = time.clock()\n",
    "print (str(t2-t1))\n",
    "print(mass_v2(arr, arr_q))\n",
    "t3 = time.clock()\n",
    "\n",
    "print (str(t3-t2))\n"
   ]
  },
  {
   "cell_type": "code",
   "execution_count": 154,
   "metadata": {},
   "outputs": [
    {
     "name": "stdout",
     "output_type": "stream",
     "text": [
      "[2.0, 2.0, 2.0, 2.0, 2.0, 2.0, 2.0, 2.0, 2.0, 2.0, 2.0, 1.0, 2.0, 2.0, 2.0, 2.0, 2.0, 2.0, 2047.0, 2047.0, 2047.0, 2047.0, 2047.0, 2047.0, 2047.0, 2047.0, 2047.0, 2047.0, 2032.0, 2007.0, 1985.0, 1965.0, 3.0, 2.0, 2.0, 2.0, 2.0, 2.0, 2.0, 2.0, 2.0, 2.0, 2.0, 1.0, 2.0, 2.0, 2.0, 957.0, 1099.0, 1145.0, 1143.0, 1149.0, 1152.0, 1153.0, 1158.0, 1161.0, 1163.0, 1167.0, 1173.0, 1175.0, 1178.0, 1180.0, 1185.0, 1188.0]\n"
     ]
    },
    {
     "data": {
      "text/plain": [
       "array([6.66666667e-01, 1.33333333e+00, 2.00000000e+00, 2.00000000e+00,\n       2.00000000e+00, 2.00000000e+00, 2.00000000e+00, 2.00000000e+00,\n       2.00000000e+00, 2.00000000e+00, 2.00000000e+00, 1.66666667e+00,\n       1.66666667e+00, 1.66666667e+00, 2.00000000e+00, 2.00000000e+00,\n       2.00000000e+00, 2.00000000e+00, 6.83666667e+02, 1.36533333e+03,\n       2.04700000e+03, 2.04700000e+03, 2.04700000e+03, 2.04700000e+03,\n       2.04700000e+03, 2.04700000e+03, 2.04700000e+03, 2.04700000e+03,\n       2.04200000e+03, 2.02866667e+03, 2.00800000e+03, 1.98566667e+03,\n       1.31766667e+03, 6.56666667e+02, 2.33333333e+00, 2.00000000e+00,\n       2.00000000e+00, 2.00000000e+00, 2.00000000e+00, 2.00000000e+00,\n       2.00000000e+00, 2.00000000e+00, 2.00000000e+00, 1.66666667e+00,\n       1.66666667e+00, 1.66666667e+00, 2.00000000e+00, 3.20333333e+02,\n       6.86000000e+02, 1.06700000e+03, 1.12900000e+03, 1.14566667e+03,\n       1.14800000e+03, 1.15133333e+03, 1.15433333e+03, 1.15733333e+03,\n       1.16066667e+03, 1.16366667e+03, 1.16766667e+03, 1.17166667e+03,\n       1.17533333e+03, 1.17766667e+03, 1.18100000e+03, 1.18433333e+03])"
      ]
     },
     "execution_count": 154,
     "metadata": {},
     "output_type": "execute_result"
    }
   ],
   "source": [
    "def running_mean(x, N):\n",
    "        cumsum = numpy.cumsum(numpy.insert(x, 0, np.zeros(N)))\n",
    "        return (cumsum[N:] - cumsum[:-N]) / float(N)\n",
    "print(arr)\n",
    "running_mean(arr, 3)"
   ]
  },
  {
   "cell_type": "code",
   "execution_count": 59,
   "metadata": {},
   "outputs": [],
   "source": []
  },
  {
   "cell_type": "code",
   "execution_count": null,
   "metadata": {},
   "outputs": [],
   "source": []
  }
 ],
 "metadata": {
  "kernelspec": {
   "display_name": "Python 2",
   "language": "python",
   "name": "python2"
  },
  "language_info": {
   "codemirror_mode": {
    "name": "ipython",
    "version": 2
   },
   "file_extension": ".py",
   "mimetype": "text/x-python",
   "name": "python",
   "nbconvert_exporter": "python",
   "pygments_lexer": "ipython2",
   "version": "2.7.6"
  }
 },
 "nbformat": 4,
 "nbformat_minor": 0
}
