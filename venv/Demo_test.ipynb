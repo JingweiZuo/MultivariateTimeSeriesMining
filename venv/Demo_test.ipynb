{
 "cells": [
  {
   "cell_type": "code",
   "execution_count": 9,
   "metadata": {
    "collapsed": true
   },
   "outputs": [
    {
     "name": "stdout",
     "output_type": "stream",
     "text": [
      "[1, 2]\n"
     ]
    }
   ],
   "source": [
    "array_ts = [{1:'a'}, {2:'b'}]\n",
    "#new_dict = {element.keys():element.values() for element in array_ts}\n",
    "new = {key:value for element in array_ts for key, value in element.items()}\n",
    "l = [1]\n",
    "l.append(2)\n",
    "print(l)"
   ]
  },
  {
   "cell_type": "code",
   "execution_count": 5,
   "metadata": {},
   "outputs": [
    {
     "name": "stdout",
     "output_type": "stream",
     "text": [
      "/Users/Jingwei/PycharmProjects/distributed_use/venv/TestDataset/ECG200/ECG200_TRAIN.csv\n"
     ]
    }
   ],
   "source": [
    "from tkinter.filedialog import askopenfilename\n",
    "import tkinter\n",
    "from tkinter import *\n",
    "from tkinter.ttk import *  #Widgets avec thèmes\n",
    "\n",
    "class StartPage(Tk):\n",
    "    def hello(self):\n",
    "        print(\"hello cmd\")\n",
    "\n",
    "    def __init__(self, *args, **kwargs):\n",
    "        Tk.__init__(self, *args, **kwargs)\n",
    "        dataset_name = askopenfilename(parent=self, title=\"Choose a file\")\n",
    "        print(dataset_name)\n",
    "application = StartPage()\n",
    "application.mainloop()\n"
   ]
  },
  {
   "cell_type": "code",
   "execution_count": 2,
   "metadata": {},
   "outputs": [
    {
     "data": {
      "text/plain": [
       "[0, 1, 2, 3, 4, 5, 6, 7, 8, 9]"
      ]
     },
     "execution_count": 2,
     "metadata": {},
     "output_type": "execute_result"
    }
   ],
   "source": [
    "list(range(10))"
   ]
  },
  {
   "cell_type": "code",
   "execution_count": 9,
   "metadata": {
    "collapsed": true
   },
   "outputs": [
    {
     "data": {
      "image/png": "[encoded data removed]",
      "text/plain": [
       "<Figure size 432x288 with 1 Axes>"
      ]
     },
     "metadata": {},
     "output_type": "display_data"
    }
   ],
   "source": [
    "import numpy as np\n",
    "import matplotlib.pyplot as plt\n",
    "\n",
    "X = np.random.rand(100, 1000)\n",
    "xs = np.mean(X, axis=1)\n",
    "ys = np.std(X, axis=1)\n",
    "\n",
    "fig = plt.figure()\n",
    "ax = fig.add_subplot(111)\n",
    "ax.set_title('click on point to plot time series')\n",
    "line, = ax.plot(xs, ys, 'o', picker=5)  # 5 points tolerance\n",
    "\n",
    "\n",
    "def onpick(event):\n",
    "\n",
    "    if event.artist!=line: return True\n",
    "\n",
    "    N = len(event.ind)\n",
    "    if not N: return True\n",
    "\n",
    "\n",
    "    figi = plt.figure()\n",
    "    for subplotnum, dataind in enumerate(event.ind):\n",
    "        ax = figi.add_subplot(N,1,subplotnum+1)\n",
    "        ax.plot(X[dataind])\n",
    "        ax.text(0.05, 0.9, 'mu=%1.3f\\nsigma=%1.3f'%(xs[dataind], ys[dataind]),\n",
    "                transform=ax.transAxes, va='top')\n",
    "        ax.set_ylim(-0.5, 1.5)\n",
    "    figi.show()\n",
    "    return True\n",
    "\n",
    "fig.canvas.mpl_connect('pick_event', onpick)\n",
    "\n",
    "plt.show()\n"
   ]
  },
  {
   "cell_type": "code",
   "execution_count": null,
   "metadata": {},
   "outputs": [],
   "source": []
  }
 ],
 "metadata": {
  "kernelspec": {
   "display_name": "Python 2",
   "language": "python",
   "name": "python2"
  },
  "language_info": {
   "codemirror_mode": {
    "name": "ipython",
    "version": 2
   },
   "file_extension": ".py",
   "mimetype": "text/x-python",
   "name": "python",
   "nbconvert_exporter": "python",
   "pygments_lexer": "ipython2",
   "version": "2.7.6"
  }
 },
 "nbformat": 4,
 "nbformat_minor": 0
}
